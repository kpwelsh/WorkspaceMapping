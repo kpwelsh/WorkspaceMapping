{
 "cells": [
  {
   "cell_type": "code",
   "execution_count": 2,
   "metadata": {},
   "outputs": [],
   "source": [
    "import numpy as np\n",
    "from scipy.optimize import minimize, LinearConstraint, NonlinearConstraint\n",
    "import matplotlib.pyplot as plt\n",
    "from mpl_toolkits.mplot3d import Axes3D\n",
    "%matplotlib notebook\n",
    "np.set_printoptions(precision = 3)\n",
    "import itertools\n",
    "from collections import defaultdict\n",
    "from scipy.spatial import Voronoi, voronoi_plot_2d\n",
    "import cdd"
   ]
  },
  {
   "cell_type": "code",
   "execution_count": 3,
   "metadata": {},
   "outputs": [],
   "source": [
    "class Region:\n",
    "    def __init__(self, p, neighbors, ratio):\n",
    "        self.P = p\n",
    "        self.Neighbors = neighbors\n",
    "        self.b = np.linalg.norm(self.Neighbors - self.P, axis = 1) / 2\n",
    "        self.A = ((neighbors - self.P).T / (2 * self.Distances)).T\n",
    "        self.Ratio = ratio\n",
    "        \n",
    "    def __contains__(self, p):\n",
    "        return np.all(self.A @ p <= self.b)\n",
    "    \n",
    "    def closest_point(self, p):\n",
    "        res = minimize(lambda x: np.linalg.norm(x - (p - self.P))**2, np.zeros_like(p), method = 'SLSQP',\n",
    "                    jac = lambda x: 2 * (x - (p - self.P)),\n",
    "                    constraints = [LinearConstraint(self.A, -np.inf, self.b * self.Ratio)])\n",
    "        return res['x'] + self.P\n",
    "    \n",
    "def Vertex:\n",
    "    def __init__(self, v, regions, ratio):\n",
    "        self.V = v\n",
    "        self.Regions = regions\n",
    "        vs = []\n",
    "        for r in regions:\n",
    "            vs.append(r.P + ratio * (self.V - r.P))\n",
    "        self.Vertices = np.array(vs)\n",
    "        self.A, self.b = self.get_polytope(ratio)\n",
    "        \n",
    "    def get_polytope(self, ratio):\n",
    "        mat = []\n",
    "        for r in self.Regions:\n",
    "            mat.append(np.concatenate((\n",
    "                [1],\n",
    "                r.P + ratio * (self.V - r.P)\n",
    "            ), axis = 0))\n",
    "        mat.rep_type = cdd.RepType.GENERATOR\n",
    "        poly = cdd.polyhedron(mat)\n",
    "        bA = np.array(poly.get_inequalities())\n",
    "        return -bA[:,1:], bA[:,0]\n",
    "    \n",
    "    def __contains__(self, p):\n",
    "        return np.all(self.A @ p <= self.b)\n",
    "    \n",
    "    def closest_point(self, p):\n",
    "        res = minimize(lambda x: np.linalg.norm(x - (p - self.V))**2, np.zeros_like(p), method = 'SLSQP',\n",
    "                    jac = lambda x: 2 * (x - (p - self.V)),\n",
    "                    constraints = [LinearConstraint(self.A, -np.inf, self.b)])\n",
    "        return res['x'] + self.V\n",
    "        \n",
    "        \n",
    "        \n",
    "def generate_regions(mu):\n",
    "    vor = Voronoi(mu)\n",
    "    region_dict = defaultdict(list)\n",
    "    vertex_dict = defaultdict(set)\n",
    "    for rps, rvs in zip(vor.ridge_points, vor.ridge_vertices):\n",
    "        for i in rps:\n",
    "            region_dict[i].extend([j for j in rps if j != i])\n",
    "            for j in rvs:\n",
    "                if j > -1 and j not in vertex_dict[i]:\n",
    "                    vertex_dict[i].add(j)\n",
    "        \n",
    "    \n",
    "    regions = []\n",
    "    for i, neighbors in region_dict.items():\n",
    "        regions.append(Region(vor.points[i], \n",
    "                              vor.points[neighbors,:], \n",
    "                              np.array([vor.vertices[j] for j in vertex_dict[i]])))\n",
    "    return regions, vor\n",
    "\n",
    "\n"
   ]
  },
  {
   "cell_type": "code",
   "execution_count": 4,
   "metadata": {},
   "outputs": [
    {
     "name": "stdout",
     "output_type": "stream",
     "text": [
      "[[ 1 -1 -1]\n",
      " [ 0  1  0]\n",
      " [ 0  0  1]]\n"
     ]
    },
    {
     "data": {
      "text/plain": [
       "<matplotlib.collections.PathCollection at 0x2b028dbb5c8>"
      ]
     },
     "execution_count": 4,
     "metadata": {},
     "output_type": "execute_result"
    },
    {
     "data": {
      "image/png": "[encoded data removed]",
      "text/plain": [
       "<Figure size 432x288 with 1 Axes>"
      ]
     },
     "metadata": {
      "needs_background": "light"
     },
     "output_type": "display_data"
    }
   ],
   "source": [
    "m = cdd.Matrix([[1, 0, 1],[1, 1, 0],[1,0,0]])\n",
    "m.rep_type = cdd.RepType.GENERATOR\n",
    "poly = cdd.Polyhedron(m)\n",
    "a = poly.get_inequalities()\n",
    "print(np.array(a))\n",
    "\n",
    "plt.figure()\n",
    "plt.scatter(*np.array(poly.get_generators())[:,1:].T)"
   ]
  },
  {
   "cell_type": "code",
   "execution_count": null,
   "metadata": {},
   "outputs": [],
   "source": []
  }
 ],
 "metadata": {
  "kernelspec": {
   "display_name": "Python 3.7.4 64-bit ('base': conda)",
   "language": "python",
   "name": "python37464bitbasecondace477c445fc749338cc2d45ceb97faf6"
  },
  "language_info": {
   "codemirror_mode": {
    "name": "ipython",
    "version": 3
   },
   "file_extension": ".py",
   "mimetype": "text/x-python",
   "name": "python",
   "nbconvert_exporter": "python",
   "pygments_lexer": "ipython3",
   "version": "3.7.4"
  }
 },
 "nbformat": 4,
 "nbformat_minor": 2
}
